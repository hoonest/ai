{
 "cells": [
  {
   "cell_type": "code",
   "execution_count": null,
   "metadata": {
    "collapsed": true
   },
   "outputs": [],
   "source": [
    "%matplotlib inline\n",
    "import numpy as np\n",
    "import tensorflow as tf\n",
    "import matplotlib.pyplot as plt"
   ]
  },
  {
   "cell_type": "code",
   "execution_count": null,
   "metadata": {},
   "outputs": [],
   "source": [
    "sess = tf.InteractiveSession()\n",
    "image = np.array([[[[1],[2],[3]],\n",
    "                   [[4],[5],[6]], \n",
    "                   [[7],[8],[9]]]], dtype=np.float32)\n",
    "print(image.shape)\n",
    "plt.imshow(image.reshape(3,3), cmap='Greys')"
   ]
  },
  {
   "cell_type": "markdown",
   "metadata": {},
   "source": []
  },
  {
   "cell_type": "markdown",
   "metadata": {},
   "source": []
  },
  {
   "cell_type": "code",
   "execution_count": null,
   "metadata": {},
   "outputs": [],
   "source": [
    "# print(\"imag:\\n\", image)\n",
    "print(\"image.shape\", image.shape)\n",
    "weight = tf.constant([[[[1.]],[[1.]]],\n",
    "                      [[[1.]],[[1.]]]])\n",
    "print(\"weight.shape\", weight.shape)\n",
    "conv2d = tf.nn.conv2d(image, weight, strides=[1, 1, 1, 1], padding='VALID')\n",
    "conv2d_img = conv2d.eval()\n",
    "print(\"conv2d_img.shape\", conv2d_img.shape)\n",
    "conv2d_img = np.swapaxes(conv2d_img, 0, 3)\n",
    "for i, one_img in enumerate(conv2d_img):\n",
    "    print(one_img.reshape(2,2))\n",
    "    plt.subplot(1,2,i+1), plt.imshow(one_img.reshape(2,2), cmap='gray')"
   ]
  },
  {
   "cell_type": "markdown",
   "metadata": {},
   "source": []
  },
  {
   "cell_type": "markdown",
   "metadata": {},
   "source": []
  },
  {
   "cell_type": "code",
   "execution_count": null,
   "metadata": {},
   "outputs": [],
   "source": [
    "# print(\"imag:\\n\", image)\n",
    "print(\"image.shape\", image.shape)\n",
    "\n",
    "weight = tf.constant([[[[1.]],[[1.]]],\n",
    "                      [[[1.]],[[1.]]]])\n",
    "print(\"weight.shape\", weight.shape)\n",
    "conv2d = tf.nn.conv2d(image, weight, strides=[1, 1, 1, 1], padding='SAME')\n",
    "conv2d_img = conv2d.eval()\n",
    "print(\"conv2d_img.shape\", conv2d_img.shape)\n",
    "conv2d_img = np.swapaxes(conv2d_img, 0, 3)\n",
    "for i, one_img in enumerate(conv2d_img):\n",
    "    print(one_img.reshape(3,3))\n",
    "    plt.subplot(1,2,i+1), plt.imshow(one_img.reshape(3,3), cmap='gray')"
   ]
  },
  {
   "cell_type": "markdown",
   "metadata": {},
   "source": []
  },
  {
   "cell_type": "code",
   "execution_count": null,
   "metadata": {},
   "outputs": [],
   "source": [
    "# print(\"imag:\\n\", image)\n",
    "print(\"image.shape\", image.shape)\n",
    "\n",
    "weight = tf.constant([[[[1.,10.,-1.]],[[1.,10.,-1.]]],\n",
    "                      [[[1.,10.,-1.]],[[1.,10.,-1.]]]])\n",
    "print(\"weight.shape\", weight.shape)\n",
    "conv2d = tf.nn.conv2d(image, weight, strides=[1, 1, 1, 1], padding='SAME')\n",
    "conv2d_img = conv2d.eval()\n",
    "print(\"conv2d_img.shape\", conv2d_img.shape)\n",
    "conv2d_img = np.swapaxes(conv2d_img, 0, 3)\n",
    "for i, one_img in enumerate(conv2d_img):\n",
    "    print(one_img.reshape(3,3))\n",
    "    plt.subplot(1,3,i+1), plt.imshow(one_img.reshape(3,3), cmap='gray')"
   ]
  },
  {
   "cell_type": "markdown",
   "metadata": {},
   "source": []
  },
  {
   "cell_type": "markdown",
   "metadata": {},
   "source": []
  },
  {
   "cell_type": "markdown",
   "metadata": {},
   "source": []
  },
  {
   "cell_type": "code",
   "execution_count": null,
   "metadata": {},
   "outputs": [],
   "source": [
    "image = np.array([[[[4],[3]],\n",
    "                    [[2],[1]]]], dtype=np.float32)\n",
    "pool = tf.nn.max_pool(image, ksize=[1, 2, 2, 1],\n",
    "                    strides=[1, 1, 1, 1], padding='VALID')\n",
    "print(pool.shape)\n",
    "print(pool.eval())"
   ]
  },
  {
   "cell_type": "markdown",
   "metadata": {},
   "source": []
  },
  {
   "cell_type": "code",
   "execution_count": null,
   "metadata": {},
   "outputs": [],
   "source": [
    "\n",
    "image = np.array([[[[4],[3]],\n",
    "                    [[2],[1]]]], dtype=np.float32)\n",
    "pool = tf.nn.max_pool(image, ksize=[1, 2, 2, 1],\n",
    "                    strides=[1, 1, 1, 1], padding='SAME')\n",
    "print(pool.shape)\n",
    "print(pool.eval())"
   ]
  },
  {
   "cell_type": "code",
   "execution_count": null,
   "metadata": {},
   "outputs": [],
   "source": [
    "from tensorflow.examples.tutorials.mnist import input_data\n",
    "mnist = input_data.read_data_sets(\"MNIST_data/\", one_hot=True)\n",
    "# Check out https://www.tensorflow.org/get_started/mnist/beginners for\n",
    "# more information about the mnist dataset"
   ]
  },
  {
   "cell_type": "code",
   "execution_count": null,
   "metadata": {},
   "outputs": [],
   "source": [
    "img = mnist.train.images[0].reshape(28,28)\n",
    "plt.imshow(img, cmap='gray')"
   ]
  },
  {
   "cell_type": "markdown",
   "metadata": {},
   "source": []
  },
  {
   "cell_type": "code",
   "execution_count": null,
   "metadata": {},
   "outputs": [],
   "source": [
    "sess = tf.InteractiveSession()\n",
    "\n",
    "img = img.reshape(-1,28,28,1)\n",
    "W1 = tf.Variable(tf.random_normal([3, 3, 1, 5], stddev=0.01))\n",
    "conv2d = tf.nn.conv2d(img, W1, strides=[1, 2, 2, 1], padding='SAME')\n",
    "print(conv2d)\n",
    "sess.run(tf.global_variables_initializer())\n",
    "conv2d_img = conv2d.eval()\n",
    "conv2d_img = np.swapaxes(conv2d_img, 0, 3)\n",
    "for i, one_img in enumerate(conv2d_img):\n",
    "    plt.subplot(1,5,i+1), plt.imshow(one_img.reshape(14,14), cmap='gray')"
   ]
  },
  {
   "cell_type": "markdown",
   "metadata": {},
   "source": []
  },
  {
   "cell_type": "code",
   "execution_count": null,
   "metadata": {},
   "outputs": [],
   "source": [
    "pool = tf.nn.max_pool(conv2d, ksize=[1, 2, 2, 1], strides=[\n",
    "                        1, 2, 2, 1], padding='SAME')\n",
    "print(pool)\n",
    "sess.run(tf.global_variables_initializer())\n",
    "pool_img = pool.eval()\n",
    "pool_img = np.swapaxes(pool_img, 0, 3)\n",
    "for i, one_img in enumerate(pool_img):\n",
    "    plt.subplot(1,5,i+1), plt.imshow(one_img.reshape(7, 7), cmap='gray')"
   ]
  },
  {
   "cell_type": "markdown",
   "metadata": {},
   "source": [
    "<img src=\"data:image/png;base64,iVBORw0KGgoAAAANSUhEUgAAAW4AAABcCAYAAABOZ1+dAAAABHNCSVQICAgIfAhkiAAAAAlwSFlz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%0A\">"
   ]
  }
 ],
 "metadata": {
  "kernelspec": {
   "display_name": "Python 2",
   "language": "python",
   "name": "python2"
  },
  "language_info": {
   "codemirror_mode": {
    "name": "ipython",
    "version": 2
   },
   "file_extension": ".py",
   "mimetype": "text/x-python",
   "name": "python",
   "nbconvert_exporter": "python",
   "pygments_lexer": "ipython2",
   "version": "2.7.6"
  }
 },
 "nbformat": 4,
 "nbformat_minor": 0
}
